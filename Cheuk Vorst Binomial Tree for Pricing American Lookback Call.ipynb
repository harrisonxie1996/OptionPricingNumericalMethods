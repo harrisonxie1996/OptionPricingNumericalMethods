{
 "cells": [
  {
   "cell_type": "code",
   "execution_count": 10,
   "metadata": {},
   "outputs": [
    {
     "name": "stdout",
     "output_type": "stream",
     "text": [
      "Option price: 4.2461\n"
     ]
    }
   ],
   "source": [
    "import numpy as np\n",
    "import math\n",
    "from scipy.stats import norm\n",
    "import seaborn as sns\n",
    "from matplotlib import pyplot as plt\n",
    "\n",
    "# A pricing program for American lookback options using the Cheuk-Vorst binomial algorithm\n",
    "\n",
    "class lookback_option:\n",
    "    def __init__(self, S0, K, rd, rf, N, T, vol):\n",
    "        self.S0 = S0  # spot price\n",
    "        self.K = K  # initial strike price\n",
    "        self.rd = rd  # domestic interest rate\n",
    "        self.rf = rf  # foreign interest rate\n",
    "        self.N = N  # number of steps\n",
    "        self.T = T  # maturity\n",
    "        self.vol = vol  # volatility\n",
    "        self.dt = self.T/self.N  # delta t\n",
    "        self.u = math.exp(self.vol*math.sqrt(self.dt)) # proportional up-jump factor\n",
    "        self.d = 1/self.u # proportional down-jump factor\n",
    "        self.r = math.exp(self.rd*self.dt)  # domestic growth factor\n",
    "        self.R = math.exp((self.rd-self.rf)*self.dt) # no arbitrage growth rate of the currency\n",
    "        self.p = (self.R - self.d)/(self.u - self.d) # risk-neutral probability of up-move\n",
    "        self.q = (self.R*self.u-1)/(self.R*(self.u-self.d))\n",
    "\n",
    "    def build_lattice(self):\n",
    "        '''\n",
    "        build a Cheuck Vorst lattice\n",
    "        '''\n",
    "        self.lattice = np.zeros((self.N + 1, self.N + 1))\n",
    "        sTree = np.zeros((self.N + 1, self.N + 1))\n",
    "        sTree[0][0] = self.S0\n",
    "        for i in range(self.N):\n",
    "            for j in range(i + 1):\n",
    "                sTree[i + 1][j + 1] = self.u * sTree[i][j]\n",
    "                sTree[i + 1][0] = self.d * sTree[i][0]\n",
    "        for i in range(self.N, -1, -1):\n",
    "            for j in range(i, -1, -1):\n",
    "                if i == self.N:\n",
    "                    self.lattice[i][j] = 1 - round(math.pow(self.u, -j), 4)\n",
    "                else:\n",
    "                    if j >= 1:\n",
    "                        self.lattice[i][j] = 1/self.r*self.R*(self.q*self.lattice[i+1][j+1]+(1-self.q)*self.lattice[i+1][j-1])\n",
    "                    if j == 0:\n",
    "                        self.lattice[i][j] = 1 / self.r * self.R * (self.q * self.lattice[i + 1][j + 1] + (1 - self.q) * self.lattice[i + 1][j])\n",
    "\n",
    "\n",
    "        vTree = np.zeros((self.N + 1, self.N + 1))\n",
    "        for i in range(self.N, -1, -1):\n",
    "            for j in range(i, -1, -1):\n",
    "                if i == self.N:\n",
    "                    vTree[i][j] = sTree[i][j]*self.lattice[i][j]\n",
    "                else:\n",
    "                    if j >= 1:\n",
    "                        vTree[i][j] = 1 / self.r * (self.p * sTree[i][j]*self.u*self.lattice[i + 1][j + 1] + (1-self.p) * sTree[i][j]*self.d*self.lattice[i + 1][j - 1])\n",
    "                    if j == 0:\n",
    "                        vTree[i][j] = 1 / self.r * (self.p * sTree[i][j]*self.u*self.lattice[i + 1][j + 1] + (1-self.p) * sTree[i][j]*self.d*self.lattice[i + 1][j])\n",
    "        return vTree\n",
    "\n",
    "\n",
    "S0 = 100\n",
    "K = 100\n",
    "rd = 0.04\n",
    "rf = 0.07\n",
    "N = 50\n",
    "T = 0.5\n",
    "vol = 0.1\n",
    "\n",
    "lookback = lookback_option(S0, K, rd, rf, N, T, vol)\n",
    "lattice = lookback.build_lattice()\n",
    "print(u'Option price: %.4f' % lattice[0][0])\n",
    "# print(lattice)\n",
    "\n"
   ]
  },
  {
   "cell_type": "code",
   "execution_count": null,
   "metadata": {},
   "outputs": [],
   "source": []
  }
 ],
 "metadata": {
  "kernelspec": {
   "display_name": "Python 3",
   "language": "python",
   "name": "python3"
  },
  "language_info": {
   "codemirror_mode": {
    "name": "ipython",
    "version": 3
   },
   "file_extension": ".py",
   "mimetype": "text/x-python",
   "name": "python",
   "nbconvert_exporter": "python",
   "pygments_lexer": "ipython3",
   "version": "3.8.5"
  }
 },
 "nbformat": 4,
 "nbformat_minor": 4
}
